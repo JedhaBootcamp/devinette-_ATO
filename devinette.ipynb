{
 "cells": [
  {
   "cell_type": "code",
   "execution_count": null,
   "metadata": {},
   "outputs": [],
   "source": [
    "import random\n",
    "\n",
    "print(\"Bienvenue dans le jeu de devinette. Vous avez 5 parties\")\n",
    "\n",
    "class devinette:\n",
    "\n",
    "    def __init__(self, points):\n",
    "        self.points = points\n",
    "\n",
    "    def jouer(self, max_num):\n",
    "        \n",
    "        for jeu in range(0,5):\n",
    "            \n",
    "            chiffre = random.randint(1, max_num)\n",
    "            dev = input(\"Veuillez choisir un chiffre entre 1 et {} \".format(max_num))\n",
    "\n",
    "        if chiffre == dev:\n",
    "            self.points += 1\n",
    "            print(\"bien joué!\")\n",
    "            \n",
    "        else:\n",
    "            print(réessayez)\n",
    "\n",
    "\n",
    "# Commencement du jeu\n",
    "\n",
    "partie_1 = devinette(5)\n",
    "\n",
    "partie_2 = devinette(5)\n",
    "        \n",
    "# Résultat de la partie\n",
    "\n",
    "print(\"Voici le résultat:\")\n",
    "\n",
    "if partie_1.points < partie_2.points:\n",
    "    print(\"vous avez mieux joué lors du premier jeu\")\n",
    "    \n",
    "elif partie_1.points == partie_2.points:\n",
    "    \n",
    "    print(\"vous avez les mêmes nombres de points\")\n",
    "    \n",
    "else: print(\"vous avez mieux joué lors du second jeu\")\n",
    "\n"
   ]
  }
 ],
 "metadata": {
  "kernelspec": {
   "display_name": "Python 3",
   "language": "python",
   "name": "python3"
  },
  "language_info": {
   "codemirror_mode": {
    "name": "ipython",
    "version": 3
   },
   "file_extension": ".py",
   "mimetype": "text/x-python",
   "name": "python",
   "nbconvert_exporter": "python",
   "pygments_lexer": "ipython3",
   "version": "3.6.5"
  }
 },
 "nbformat": 4,
 "nbformat_minor": 2
}
